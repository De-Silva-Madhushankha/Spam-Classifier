{
 "cells": [
  {
   "cell_type": "markdown",
   "id": "7bc84a70-25d4-4e87-b3a6-7998c0bcf8a8",
   "metadata": {},
   "source": [
    "# Download Datasets"
   ]
  },
  {
   "cell_type": "code",
   "execution_count": 3,
   "id": "76219257-6872-4c30-bbf8-6758f0728dec",
   "metadata": {},
   "outputs": [
    {
     "name": "stdout",
     "output_type": "stream",
     "text": [
      "C:\\Users\\madhu\\Documents\\AI as an API\n"
     ]
    }
   ],
   "source": [
    "import pathlib\n",
    "\n",
    "USE_PROJECT_ROOT = True\n",
    "BASE_DIR = pathlib.Path(\".\").resolve()\n",
    "\n",
    "print(BASE_DIR.parent)\n",
    "\n",
    "if USE_PROJECT_ROOT:\n",
    "    BASE_DIR = BASE_DIR.parent\n",
    "\n",
    "DATASET_DIR = BASE_DIR / \"datasets\"\n",
    "ZIPS_DIR = DATASET_DIR / \"zips\"\n",
    "EXPORT_DIR = DATASET_DIR / \"exports\"\n",
    "SMS_SPAM_DIR = DATASET_DIR / \"imports\"/ \"sms-spam\"\n",
    "YOUTUBE_SPAM_DIR = DATASET_DIR /  \"imports\" / \"youtube-spam\"\n",
    "\n",
    "SPAM_SMS_ZIP_PATH = ZIPS_DIR / \"sms-spam-dataset.zip\"\n",
    "SPAM_YOUTUBE_ZIP_PATH = ZIPS_DIR / \"youtube-spam-dataset.zip\""
   ]
  },
  {
   "cell_type": "code",
   "execution_count": 4,
   "id": "9afe3bd0-0041-4314-91d8-7b0c8589fbf6",
   "metadata": {},
   "outputs": [],
   "source": [
    "ZIPS_DIR.mkdir(exist_ok=True, parents=True)\n",
    "\n",
    "EXPORT_DIR.mkdir(exist_ok=True, parents=True)\n",
    "\n",
    "SMS_SPAM_DIR.mkdir(exist_ok=True, parents=True)\n",
    "\n",
    "YOUTUBE_SPAM_DIR.mkdir(exist_ok=True, parents=True)\n"
   ]
  },
  {
   "cell_type": "code",
   "execution_count": 5,
   "id": "8c2cd726-5bf9-479f-8a22-be9954f338be",
   "metadata": {},
   "outputs": [],
   "source": [
    "SMS_SPAM_ZIP = \"https://archive.ics.uci.edu/static/public/228/sms+spam+collection.zip\"\n",
    "YOUTUBE_SPAM_ZIP = \"https://archive.ics.uci.edu/static/public/380/youtube+spam+collection.zip\""
   ]
  },
  {
   "cell_type": "code",
   "execution_count": 6,
   "id": "1e5e302d-3e60-44f6-9f76-60a9b2c8e6c8",
   "metadata": {},
   "outputs": [
    {
     "name": "stderr",
     "output_type": "stream",
     "text": [
      "  % Total    % Received % Xferd  Average Speed   Time    Time     Time  Current\n",
      "                                 Dload  Upload   Total   Spent    Left  Speed\n",
      "\n",
      "  0     0    0     0    0     0      0      0 --:--:-- --:--:-- --:--:--     0curl: (6) Could not resolve host: archive.ics.uci.edu\n",
      "'unzip' is not recognized as an internal or external command,\n",
      "operable program or batch file.\n"
     ]
    }
   ],
   "source": [
    "!curl -L \"$SMS_SPAM_ZIP\" -o \"$SPAM_SMS_ZIP_PATH\"\n",
    "!unzip -o \"$SPAM_SMS_ZIP_PATH\" -d \"$SMS_SPAM_DIR\""
   ]
  },
  {
   "cell_type": "code",
   "execution_count": 7,
   "id": "e41e64ed-6870-49e1-b7c8-3de0e12ae58e",
   "metadata": {},
   "outputs": [
    {
     "name": "stderr",
     "output_type": "stream",
     "text": [
      "  % Total    % Received % Xferd  Average Speed   Time    Time     Time  Current\n",
      "                                 Dload  Upload   Total   Spent    Left  Speed\n",
      "\n",
      "  0     0    0     0    0     0      0      0 --:--:-- --:--:-- --:--:--     0curl: (6) Could not resolve host: archive.ics.uci.edu\n",
      "'unzip' is not recognized as an internal or external command,\n",
      "operable program or batch file.\n"
     ]
    }
   ],
   "source": [
    "!curl -L \"$YOUTUBE_SPAM_ZIP\" -o \"$SPAM_YOUTUBE_ZIP_PATH\"\n",
    "!unzip -o \"$SPAM_YOUTUBE_ZIP_PATH\" -d \"$YOUTUBE_SPAM_DIR\""
   ]
  },
  {
   "cell_type": "markdown",
   "id": "bb5279de-66d3-47e3-9b79-d465993c32e1",
   "metadata": {},
   "source": [
    "# Load Datasets into a Pandas DataFrame"
   ]
  },
  {
   "cell_type": "code",
   "execution_count": null,
   "id": "fec5b5de-ba37-4194-bf8b-27ab018aa9a8",
   "metadata": {},
   "outputs": [],
   "source": [
    "import pandas as pd"
   ]
  },
  {
   "cell_type": "code",
   "execution_count": null,
   "id": "e622e6a9-4c3a-4c86-802d-a39488ad9b0a",
   "metadata": {},
   "outputs": [],
   "source": [
    "sms_path = SMS_SPAM_DIR / 'SMSSpamCollection'\n",
    "sms_df = pd.read_csv(str(sms_path), sep='\\t', header=None)"
   ]
  },
  {
   "cell_type": "code",
   "execution_count": null,
   "id": "dbe3b5ad-4bfd-44d2-bf79-585d5c482797",
   "metadata": {},
   "outputs": [],
   "source": [
    "sms_df.columns = ['label', 'text']\n",
    "sms_df['source'] = 'uci-spam-sms'"
   ]
  },
  {
   "cell_type": "code",
   "execution_count": null,
   "id": "255d2dd1-f36a-4ef6-922c-7d62e85298ed",
   "metadata": {},
   "outputs": [],
   "source": [
    "location = YOUTUBE_SPAM_DIR\n",
    "csvs = list(location.glob(\"*.csv\"))"
   ]
  }
 ],
 "metadata": {
  "kernelspec": {
   "display_name": "Python 3 (ipykernel)",
   "language": "python",
   "name": "python3"
  },
  "language_info": {
   "codemirror_mode": {
    "name": "ipython",
    "version": 3
   },
   "file_extension": ".py",
   "mimetype": "text/x-python",
   "name": "python",
   "nbconvert_exporter": "python",
   "pygments_lexer": "ipython3",
   "version": "3.13.2"
  }
 },
 "nbformat": 4,
 "nbformat_minor": 5
}
